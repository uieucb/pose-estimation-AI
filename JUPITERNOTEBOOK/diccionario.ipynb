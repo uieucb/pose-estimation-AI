{
 "cells": [
  {
   "cell_type": "code",
   "execution_count": 5,
   "metadata": {},
   "outputs": [],
   "source": [
    "#DICCIONARIO\n",
    "#Llamando a las librerias\n",
    "import mediapipe as mp\n",
    "#Es una libreria de vision por computadora, nos dara la imagen renderizada\n",
    "import cv2\n",
    "#configurando dos lines de media pipe para nuestro modelo\n",
    "#primero se exporta las caracteristicas de dibujo\n",
    "mp_drawing=mp.solutions.drawing_utils #drawing helpers\n",
    "#se obtiene el modelo \n",
    "mp_holistic=mp.solutions.holistic  #mediapipe solutions\n"
   ]
  },
  {
   "cell_type": "code",
   "execution_count": 6,
   "metadata": {},
   "outputs": [],
   "source": [
    "#Nos ayudara a trabajar con csv y guardar nuestros datos ahi\n",
    "import csv\n",
    "#Nos ayudara en el orden de carpetas y almacenamiento, exportar a una estructura de datos especifica\n",
    "import os\n",
    "#Nos ayuda a trabajar con matrices numpy\n",
    "import numpy as np"
   ]
  },
  {
   "cell_type": "code",
   "execution_count": 7,
   "metadata": {},
   "outputs": [
    {
     "name": "stdout",
     "output_type": "stream",
     "text": [
      "PoseLandmark.NOSE\n",
      "PoseLandmark.LEFT_EYE_INNER\n",
      "PoseLandmark.LEFT_EYE\n",
      "PoseLandmark.LEFT_EYE_OUTER\n",
      "PoseLandmark.RIGHT_EYE_INNER\n",
      "PoseLandmark.RIGHT_EYE\n",
      "PoseLandmark.RIGHT_EYE_OUTER\n",
      "PoseLandmark.LEFT_EAR\n",
      "PoseLandmark.RIGHT_EAR\n",
      "PoseLandmark.MOUTH_LEFT\n",
      "PoseLandmark.MOUTH_RIGHT\n",
      "PoseLandmark.LEFT_SHOULDER\n",
      "PoseLandmark.RIGHT_SHOULDER\n",
      "PoseLandmark.LEFT_ELBOW\n",
      "PoseLandmark.RIGHT_ELBOW\n",
      "PoseLandmark.LEFT_WRIST\n",
      "PoseLandmark.RIGHT_WRIST\n",
      "PoseLandmark.LEFT_PINKY\n",
      "PoseLandmark.RIGHT_PINKY\n",
      "PoseLandmark.LEFT_INDEX\n",
      "PoseLandmark.RIGHT_INDEX\n",
      "PoseLandmark.LEFT_THUMB\n",
      "PoseLandmark.RIGHT_THUMB\n",
      "PoseLandmark.LEFT_HIP\n",
      "PoseLandmark.RIGHT_HIP\n",
      "PoseLandmark.LEFT_KNEE\n",
      "PoseLandmark.RIGHT_KNEE\n",
      "PoseLandmark.LEFT_ANKLE\n",
      "PoseLandmark.RIGHT_ANKLE\n",
      "PoseLandmark.LEFT_HEEL\n",
      "PoseLandmark.RIGHT_HEEL\n",
      "PoseLandmark.LEFT_FOOT_INDEX\n",
      "PoseLandmark.RIGHT_FOOT_INDEX\n"
     ]
    }
   ],
   "source": [
    "#aqui se lista el total de landmarks, y la manera en la que se los nombra para obtener los datos\n",
    "for lndmrk in mp_holistic.PoseLandmark:\n",
    "    print(lndmrk)"
   ]
  },
  {
   "cell_type": "code",
   "execution_count": 14,
   "metadata": {},
   "outputs": [],
   "source": [
    "#ELIMINAR POSTLANDMARK\n",
    "\n",
    "\n",
    "\n",
    "\n",
    "#Guardando los landmarks en un archivo csv\n",
    "#Solo se ingresan el nombre de las columnas segun la cantidad de datos\n",
    "#el class es para etiquetarlo segun lo que se esta haciendo\n",
    "nombres=list(mp_holistic.PoseLandmark)\n",
    "num_coords=33\n",
    "\n",
    "with open('dicciona.csv',mode='w',newline='') as f:\n",
    "    for val in range(1,num_coords+1):\n",
    "        landmarks =['x{}'.format(val),'y{}'.format(val),'z{}'.format(val),'v{}'.format(val),str(nombres[val-1])]\n",
    "        csv_writer=csv.writer(f,delimiter=',', quotechar='\"',quoting=csv.QUOTE_MINIMAL)\n",
    "        csv_writer.writerow(landmarks)"
   ]
  },
  {
   "cell_type": "code",
   "execution_count": 16,
   "metadata": {},
   "outputs": [
    {
     "name": "stdout",
     "output_type": "stream",
     "text": [
      "['x1', 'y1', 'z1', 'v1', 'PoseLandmark.NOSE']\n",
      "['x2', 'y2', 'z2', 'v2', 'PoseLandmark.LEFT_EYE_INNER']\n",
      "['x3', 'y3', 'z3', 'v3', 'PoseLandmark.LEFT_EYE']\n",
      "['x4', 'y4', 'z4', 'v4', 'PoseLandmark.LEFT_EYE_OUTER']\n",
      "['x5', 'y5', 'z5', 'v5', 'PoseLandmark.RIGHT_EYE_INNER']\n",
      "['x6', 'y6', 'z6', 'v6', 'PoseLandmark.RIGHT_EYE']\n",
      "['x7', 'y7', 'z7', 'v7', 'PoseLandmark.RIGHT_EYE_OUTER']\n",
      "['x8', 'y8', 'z8', 'v8', 'PoseLandmark.LEFT_EAR']\n",
      "['x9', 'y9', 'z9', 'v9', 'PoseLandmark.RIGHT_EAR']\n",
      "['x10', 'y10', 'z10', 'v10', 'PoseLandmark.MOUTH_LEFT']\n",
      "['x11', 'y11', 'z11', 'v11', 'PoseLandmark.MOUTH_RIGHT']\n",
      "['x12', 'y12', 'z12', 'v12', 'PoseLandmark.LEFT_SHOULDER']\n",
      "['x13', 'y13', 'z13', 'v13', 'PoseLandmark.RIGHT_SHOULDER']\n",
      "['x14', 'y14', 'z14', 'v14', 'PoseLandmark.LEFT_ELBOW']\n",
      "['x15', 'y15', 'z15', 'v15', 'PoseLandmark.RIGHT_ELBOW']\n",
      "['x16', 'y16', 'z16', 'v16', 'PoseLandmark.LEFT_WRIST']\n",
      "['x17', 'y17', 'z17', 'v17', 'PoseLandmark.RIGHT_WRIST']\n",
      "['x18', 'y18', 'z18', 'v18', 'PoseLandmark.LEFT_PINKY']\n",
      "['x19', 'y19', 'z19', 'v19', 'PoseLandmark.RIGHT_PINKY']\n",
      "['x20', 'y20', 'z20', 'v20', 'PoseLandmark.LEFT_INDEX']\n",
      "['x21', 'y21', 'z21', 'v21', 'PoseLandmark.RIGHT_INDEX']\n",
      "['x22', 'y22', 'z22', 'v22', 'PoseLandmark.LEFT_THUMB']\n",
      "['x23', 'y23', 'z23', 'v23', 'PoseLandmark.RIGHT_THUMB']\n",
      "['x24', 'y24', 'z24', 'v24', 'PoseLandmark.LEFT_HIP']\n",
      "['x25', 'y25', 'z25', 'v25', 'PoseLandmark.RIGHT_HIP']\n",
      "['x26', 'y26', 'z26', 'v26', 'PoseLandmark.LEFT_KNEE']\n",
      "['x27', 'y27', 'z27', 'v27', 'PoseLandmark.RIGHT_KNEE']\n",
      "['x28', 'y28', 'z28', 'v28', 'PoseLandmark.LEFT_ANKLE']\n",
      "['x29', 'y29', 'z29', 'v29', 'PoseLandmark.RIGHT_ANKLE']\n",
      "['x30', 'y30', 'z30', 'v30', 'PoseLandmark.LEFT_HEEL']\n",
      "['x31', 'y31', 'z31', 'v31', 'PoseLandmark.RIGHT_HEEL']\n",
      "['x32', 'y32', 'z32', 'v32', 'PoseLandmark.LEFT_FOOT_INDEX']\n",
      "['x33', 'y33', 'z33', 'v33', 'PoseLandmark.RIGHT_FOOT_INDEX']\n"
     ]
    }
   ],
   "source": [
    "import json\n",
    "import csv\n",
    "\n",
    "with open (\"dicciona.csv\",\"r\") as f:\n",
    "    reader=csv.reader(f)\n",
    "    #next(reader)\n",
    "    data={\"diccionario\":[]}\n",
    "    \n",
    "    for row in reader:\n",
    "        #Dividiendo el Row en split\n",
    "        txt = str(row[4])\n",
    "        x = txt.split(\".\")\n",
    "        #print(x[1])\n",
    "        data[\"diccionario\"].append({\n",
    "            \"\"+x[1]+\"_\"+row[0]:row[0],\n",
    "            \"\"+x[1]+\"_\"+row[1]:row[1],\n",
    "            \"\"+x[1]+\"_\"+row[2]:row[2],\n",
    "            \"\"+x[1]+\"_\"+row[3]:row[3]\n",
    "        })\n",
    "        print(row)\n",
    "with open(\"diccionariojs.json\",\"w\") as f:\n",
    "    json.dump(data,f,indent=4)"
   ]
  }
 ],
 "metadata": {
  "kernelspec": {
   "display_name": "Python 3",
   "language": "python",
   "name": "python3"
  },
  "language_info": {
   "codemirror_mode": {
    "name": "ipython",
    "version": 3
   },
   "file_extension": ".py",
   "mimetype": "text/x-python",
   "name": "python",
   "nbconvert_exporter": "python",
   "pygments_lexer": "ipython3",
   "version": "3.7.6"
  }
 },
 "nbformat": 4,
 "nbformat_minor": 4
}
