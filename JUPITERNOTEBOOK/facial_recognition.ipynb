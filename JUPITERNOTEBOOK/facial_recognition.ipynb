{
 "cells": [
  {
   "cell_type": "code",
   "execution_count": 14,
   "metadata": {},
   "outputs": [
    {
     "name": "stdout",
     "output_type": "stream",
     "text": [
      "Requirement already satisfied: mediapipe in c:\\users\\asus\\anaconda3\\lib\\site-packages (0.8.7.2)\n",
      "Requirement already satisfied: opencv-python in c:\\users\\asus\\anaconda3\\lib\\site-packages (4.5.3.56)\n",
      "Requirement already satisfied: numpy in c:\\users\\asus\\anaconda3\\lib\\site-packages (from mediapipe) (1.18.1)\n",
      "Requirement already satisfied: matplotlib in c:\\users\\asus\\anaconda3\\lib\\site-packages (from mediapipe) (3.1.3)\n",
      "Requirement already satisfied: protobuf>=3.11.4 in c:\\users\\asus\\anaconda3\\lib\\site-packages (from mediapipe) (3.17.3)\n",
      "Requirement already satisfied: absl-py in c:\\users\\asus\\anaconda3\\lib\\site-packages (from mediapipe) (0.13.0)\n",
      "Requirement already satisfied: attrs>=19.1.0 in c:\\users\\asus\\anaconda3\\lib\\site-packages (from mediapipe) (19.3.0)\n",
      "Requirement already satisfied: opencv-contrib-python in c:\\users\\asus\\anaconda3\\lib\\site-packages (from mediapipe) (4.5.3.56)\n",
      "Requirement already satisfied: six in c:\\users\\asus\\anaconda3\\lib\\site-packages (from mediapipe) (1.14.0)\n",
      "Requirement already satisfied: wheel in c:\\users\\asus\\anaconda3\\lib\\site-packages (from mediapipe) (0.34.2)\n",
      "Requirement already satisfied: cycler>=0.10 in c:\\users\\asus\\anaconda3\\lib\\site-packages (from matplotlib->mediapipe) (0.10.0)\n",
      "Requirement already satisfied: kiwisolver>=1.0.1 in c:\\users\\asus\\anaconda3\\lib\\site-packages (from matplotlib->mediapipe) (1.1.0)\n",
      "Requirement already satisfied: python-dateutil>=2.1 in c:\\users\\asus\\anaconda3\\lib\\site-packages (from matplotlib->mediapipe) (2.8.1)\n",
      "Requirement already satisfied: pyparsing!=2.0.4,!=2.1.2,!=2.1.6,>=2.0.1 in c:\\users\\asus\\anaconda3\\lib\\site-packages (from matplotlib->mediapipe) (2.4.6)\n",
      "Requirement already satisfied: setuptools in c:\\users\\asus\\anaconda3\\lib\\site-packages (from kiwisolver>=1.0.1->matplotlib->mediapipe) (45.2.0.post20200210)\n"
     ]
    }
   ],
   "source": [
    "#1. INSTALACION DEL OPENCV Y EL MEDIA PIPE\n",
    "#Al ver en la pagina de media pipe, hay mucho modelos, se usara el holistico ya que es una combinacion de varios modelos\n",
    "#nos da el seguimiento de pose, el de la cara, y las manos\n",
    "!pip install mediapipe opencv-python"
   ]
  },
  {
   "cell_type": "code",
   "execution_count": 1,
   "metadata": {},
   "outputs": [],
   "source": [
    "import mediapipe as mp\n",
    "#Es una libreria de vision por computadora\n",
    "import cv2\n",
    "#configurando dos lines de media pipe para nuestro modelo\n",
    "#primero se exporta las caracteristicas de dibujo\n",
    "mp_drawing=mp.solutions.drawing_utils\n",
    "#se obtiene el modelo\n",
    "mp_holistic=mp.solutions.holistic\n"
   ]
  },
  {
   "cell_type": "code",
   "execution_count": 2,
   "metadata": {},
   "outputs": [],
   "source": [
    "#1. GET REALTIME WEBCAM FEED------------------------------\n",
    "#capturamos el dispositivo y le pasamos el numero de dispositivo del webcam\n",
    "cap=cv2.VideoCapture(0)\n",
    "# mientras nuesro dispositovo de caputra este abierto \n",
    "while cap.isOpened():\n",
    "    #leyendo el feed de la camara\n",
    "    ret,frame=cap.read();\n",
    "    #ahorita le decimos a nuestra cv2 que solo muestra la imagen del camara web\n",
    "    cv2.imshow('Holistic Model Detections', frame)\n",
    "    \n",
    "    #para salir de la camara web cuando se escrib\n",
    "    if cv2.waitKey(10) & 0xFF==ord('q'):\n",
    "        break\n",
    "        \n",
    "cap.release()\n",
    "cv2.destroyAllWindows()"
   ]
  },
  {
   "cell_type": "code",
   "execution_count": 17,
   "metadata": {},
   "outputs": [],
   "source": [
    "#MAKE DETECTIONS FROM FEED \n",
    "#1. DETECT FACIAL LANDMARKS\n",
    "#2, DETECT HAND POSES\n",
    "#3. DETECT BODY POSES"
   ]
  },
  {
   "cell_type": "code",
   "execution_count": 9,
   "metadata": {},
   "outputs": [
    {
     "ename": "KeyboardInterrupt",
     "evalue": "",
     "output_type": "error",
     "traceback": [
      "\u001b[1;31m---------------------------------------------------------------------------\u001b[0m",
      "\u001b[1;31mKeyboardInterrupt\u001b[0m                         Traceback (most recent call last)",
      "\u001b[1;32m<ipython-input-9-592fb7f96702>\u001b[0m in \u001b[0;36m<module>\u001b[1;34m\u001b[0m\n\u001b[0;32m     18\u001b[0m \u001b[1;33m\u001b[0m\u001b[0m\n\u001b[0;32m     19\u001b[0m         \u001b[1;31m#Realizando decisiones\u001b[0m\u001b[1;33m\u001b[0m\u001b[1;33m\u001b[0m\u001b[1;33m\u001b[0m\u001b[0m\n\u001b[1;32m---> 20\u001b[1;33m         \u001b[0mresults\u001b[0m\u001b[1;33m=\u001b[0m\u001b[0mholistic\u001b[0m\u001b[1;33m.\u001b[0m\u001b[0mprocess\u001b[0m\u001b[1;33m(\u001b[0m\u001b[0mimage\u001b[0m\u001b[1;33m)\u001b[0m\u001b[1;33m\u001b[0m\u001b[1;33m\u001b[0m\u001b[0m\n\u001b[0m\u001b[0;32m     21\u001b[0m       \u001b[1;31m#  print(results.face_landmarks)\u001b[0m\u001b[1;33m\u001b[0m\u001b[1;33m\u001b[0m\u001b[1;33m\u001b[0m\u001b[0m\n\u001b[0;32m     22\u001b[0m \u001b[1;33m\u001b[0m\u001b[0m\n",
      "\u001b[1;32m~\\anaconda3\\lib\\site-packages\\mediapipe\\python\\solutions\\holistic.py\u001b[0m in \u001b[0;36mprocess\u001b[1;34m(self, image)\u001b[0m\n\u001b[0;32m    145\u001b[0m     \"\"\"\n\u001b[0;32m    146\u001b[0m \u001b[1;33m\u001b[0m\u001b[0m\n\u001b[1;32m--> 147\u001b[1;33m     \u001b[0mresults\u001b[0m \u001b[1;33m=\u001b[0m \u001b[0msuper\u001b[0m\u001b[1;33m(\u001b[0m\u001b[1;33m)\u001b[0m\u001b[1;33m.\u001b[0m\u001b[0mprocess\u001b[0m\u001b[1;33m(\u001b[0m\u001b[0minput_data\u001b[0m\u001b[1;33m=\u001b[0m\u001b[1;33m{\u001b[0m\u001b[1;34m'image'\u001b[0m\u001b[1;33m:\u001b[0m \u001b[0mimage\u001b[0m\u001b[1;33m}\u001b[0m\u001b[1;33m)\u001b[0m\u001b[1;33m\u001b[0m\u001b[1;33m\u001b[0m\u001b[0m\n\u001b[0m\u001b[0;32m    148\u001b[0m     \u001b[1;32mif\u001b[0m \u001b[0mresults\u001b[0m\u001b[1;33m.\u001b[0m\u001b[0mpose_landmarks\u001b[0m\u001b[1;33m:\u001b[0m\u001b[1;33m\u001b[0m\u001b[1;33m\u001b[0m\u001b[0m\n\u001b[0;32m    149\u001b[0m       \u001b[1;32mfor\u001b[0m \u001b[0mlandmark\u001b[0m \u001b[1;32min\u001b[0m \u001b[0mresults\u001b[0m\u001b[1;33m.\u001b[0m\u001b[0mpose_landmarks\u001b[0m\u001b[1;33m.\u001b[0m\u001b[0mlandmark\u001b[0m\u001b[1;33m:\u001b[0m\u001b[1;33m\u001b[0m\u001b[1;33m\u001b[0m\u001b[0m\n",
      "\u001b[1;32m~\\anaconda3\\lib\\site-packages\\mediapipe\\python\\solution_base.py\u001b[0m in \u001b[0;36mprocess\u001b[1;34m(self, input_data)\u001b[0m\n\u001b[0;32m    332\u001b[0m                                      data).at(self._simulated_timestamp))\n\u001b[0;32m    333\u001b[0m \u001b[1;33m\u001b[0m\u001b[0m\n\u001b[1;32m--> 334\u001b[1;33m     \u001b[0mself\u001b[0m\u001b[1;33m.\u001b[0m\u001b[0m_graph\u001b[0m\u001b[1;33m.\u001b[0m\u001b[0mwait_until_idle\u001b[0m\u001b[1;33m(\u001b[0m\u001b[1;33m)\u001b[0m\u001b[1;33m\u001b[0m\u001b[1;33m\u001b[0m\u001b[0m\n\u001b[0m\u001b[0;32m    335\u001b[0m     \u001b[1;31m# Create a NamedTuple object where the field names are mapping to the graph\u001b[0m\u001b[1;33m\u001b[0m\u001b[1;33m\u001b[0m\u001b[1;33m\u001b[0m\u001b[0m\n\u001b[0;32m    336\u001b[0m     \u001b[1;31m# output stream names.\u001b[0m\u001b[1;33m\u001b[0m\u001b[1;33m\u001b[0m\u001b[1;33m\u001b[0m\u001b[0m\n",
      "\u001b[1;31mKeyboardInterrupt\u001b[0m: "
     ]
    }
   ],
   "source": [
    "#1. GET REALTIME WEBCAM FEED------------------------------\n",
    "#capturamos el dispositivo y le pasamos el numero de dispositivo del webcam\n",
    "cap=cv2.VideoCapture(0)\n",
    "\n",
    "#estamos configurnado e ingresando a nuestro modelo holistico\n",
    "#se especifica qeu tan buena es la deteccion y seguimineto y \n",
    "#todo lo ponemos en holistic para trabajar con ello \n",
    "with mp_holistic.Holistic(min_detection_confidence=0.5,min_tracking_confidence=0.5) as holistic:\n",
    "    # mientras nuesro dispositovo de caputra este abierto \n",
    "    while cap.isOpened():\n",
    "        #leyendo el feed de la camara\n",
    "        ret,frame=cap.read();\n",
    "        #Recoloreando de bgr a rgb para enviar los datos\n",
    "        #de manera correcta\n",
    "        #cuando lo usamos con opencv utilizamos bgr pero para enviarlo \n",
    "        #la modelo holistico requerimos rgb\n",
    "        image=cv2.cvtColor(frame,cv2.COLOR_BGR2RGB)\n",
    "\n",
    "        #Realizando decisiones\n",
    "        results=holistic.process(image)\n",
    "      #  print(results.face_landmarks)\n",
    "        \n",
    "        #Comenzamos a devolverlo a su color para luego pintarlo encima de \n",
    "        #la imagen con opencv YA QUE SINO TIENE UNA COLORACION EXTRA;A\n",
    "        image=cv2.cvtColor(image,cv2.COLOR_RGB2BGR)\n",
    "        \n",
    "        #Dibujando las marcas de la cara \n",
    "        #Se cambio el llamado de FACE_CONNECTIONS a facemesh_contourS, FACEMESH_TESSELATION\n",
    "        mp_drawing.draw_landmarks(image, results.face_landmarks, mp_holistic.FACEMESH_CONTOURS)\n",
    "        \n",
    "        \n",
    "        #RIGHT HAND\n",
    "        mp_drawing.draw_landmarks(image, results.right_hand_landmarks, mp_holistic.HAND_CONNECTIONS)\n",
    "      \n",
    "        \n",
    "        #LEFT HAND\n",
    "        mp_drawing.draw_landmarks(image, results.left_hand_landmarks, mp_holistic.HAND_CONNECTIONS)\n",
    "      \n",
    "        \n",
    "        #POSE DETECTION\n",
    "        mp_drawing.draw_landmarks(image, results.pose_landmarks, mp_holistic.POSE_CONNECTIONS)\n",
    "      \n",
    "        \n",
    "        \n",
    "        \n",
    "         #ahorita le decimos a nuestra cv2 que solo muestra la imagen del camara web\n",
    "        #y cambiamos de frame a image ya que queremos enviarle nuestra imagen renderizada o dibujada\n",
    "        cv2.imshow('Raw Webcam Feed', image)\n",
    "        \n",
    "        #para salir de la camara web cuando se escrib\n",
    "        if cv2.waitKey(10) & 0xFF==ord('q'):\n",
    "            break\n",
    "        \n",
    "cap.release()\n",
    "cv2.destroyAllWindows()"
   ]
  },
  {
   "cell_type": "code",
   "execution_count": 8,
   "metadata": {},
   "outputs": [],
   "source": [
    "mp_holistic??\n",
    "\n"
   ]
  },
  {
   "cell_type": "code",
   "execution_count": 10,
   "metadata": {},
   "outputs": [],
   "source": [
    "cap.release()\n",
    "cv2.destroyAllWindows()"
   ]
  },
  {
   "cell_type": "code",
   "execution_count": null,
   "metadata": {},
   "outputs": [],
   "source": [
    "mp_drawing.DrawingSpec(color=(0,0,255),thickness=2, circle_radius=2)"
   ]
  },
  {
   "cell_type": "code",
   "execution_count": null,
   "metadata": {},
   "outputs": [],
   "source": []
  },
  {
   "cell_type": "code",
   "execution_count": 14,
   "metadata": {},
   "outputs": [],
   "source": [
    "#3. APLICANDO ESTILO Y CAMBIO DE COLORES AL MODELO\n",
    "#1. GET REALTIME WEBCAM FEED------------------------------\n",
    "#capturamos el dispositivo y le pasamos el numero de dispositivo del webcam\n",
    "cap=cv2.VideoCapture(0)\n",
    "\n",
    "#estamos configurnado e ingresando a nuestro modelo holistico\n",
    "#se especifica qeu tan buena es la deteccion y seguimineto y \n",
    "#todo lo ponemos en holistic para trabajar con ello \n",
    "with mp_holistic.Holistic(min_detection_confidence=0.5,min_tracking_confidence=0.5) as holistic:\n",
    "    # mientras nuesro dispositovo de caputra este abierto \n",
    "    while cap.isOpened():\n",
    "        #leyendo el feed de la camara\n",
    "        ret,frame=cap.read();\n",
    "        #Recoloreando de bgr a rgb para enviar los datos\n",
    "        #de manera correcta\n",
    "        #cuando lo usamos con opencv utilizamos bgr pero para enviarlo \n",
    "        #la modelo holistico requerimos rgb\n",
    "        image=cv2.cvtColor(frame,cv2.COLOR_BGR2RGB)\n",
    "\n",
    "        #Realizando decisiones\n",
    "        results=holistic.process(image)\n",
    "      #  print(results.face_landmarks)\n",
    "        \n",
    "        #Comenzamos a devolverlo a su color para luego pintarlo encima de \n",
    "        #la imagen con opencv YA QUE SINO TIENE UNA COLORACION EXTRA;A\n",
    "        image=cv2.cvtColor(image,cv2.COLOR_RGB2BGR)\n",
    "        \n",
    "        #Dibujando las marcas de la cara \n",
    "        #Se cambio el llamado de FACE_CONNECTIONS a facemesh_contourS, FACEMESH_TESSELATION\n",
    "        mp_drawing.draw_landmarks(image, results.face_landmarks, mp_holistic.FACEMESH_CONTOURS,\n",
    "                                 mp_drawing.DrawingSpec(color=(80,110,10),thickness=2, circle_radius=1)\n",
    "                                ,mp_drawing.DrawingSpec(color=(80,250,121),thickness=2, circle_radius=1))\n",
    "        \n",
    "        \n",
    "        #RIGHT HAND\n",
    "        mp_drawing.draw_landmarks(image, results.right_hand_landmarks, mp_holistic.HAND_CONNECTIONS,\n",
    "                                 mp_drawing.DrawingSpec(color=(80,22,10),thickness=2, circle_radius=4)\n",
    "                                ,mp_drawing.DrawingSpec(color=(80,44,121),thickness=2, circle_radius=2))\n",
    "      \n",
    "        \n",
    "        #LEFT HAND\n",
    "        mp_drawing.draw_landmarks(image, results.left_hand_landmarks, mp_holistic.HAND_CONNECTIONS,\n",
    "                                 mp_drawing.DrawingSpec(color=(121,22,76),thickness=2, circle_radius=4)\n",
    "                                ,mp_drawing.DrawingSpec(color=(121,44,250),thickness=2, circle_radius=2))\n",
    "      \n",
    "        \n",
    "        #POSE DETECTION\n",
    "        mp_drawing.draw_landmarks(image, results.pose_landmarks, mp_holistic.POSE_CONNECTIONS,\n",
    "                                 mp_drawing.DrawingSpec(color=(245,117,66),thickness=2, circle_radius=4)\n",
    "                                ,mp_drawing.DrawingSpec(color=(245,66,230),thickness=2, circle_radius=2))\n",
    "      \n",
    "        \n",
    "        \n",
    "        \n",
    "         #ahorita le decimos a nuestra cv2 que solo muestra la imagen del camara web\n",
    "        #y cambiamos de frame a image ya que queremos enviarle nuestra imagen renderizada o dibujada\n",
    "        cv2.imshow('Raw Webcam Feed', image)\n",
    "        \n",
    "        #para salir de la camara web cuando se escrib\n",
    "        if cv2.waitKey(10) & 0xFF==ord('q'):\n",
    "            break\n",
    "        \n",
    "cap.release()\n",
    "cv2.destroyAllWindows()"
   ]
  },
  {
   "cell_type": "code",
   "execution_count": null,
   "metadata": {},
   "outputs": [],
   "source": []
  }
 ],
 "metadata": {
  "kernelspec": {
   "display_name": "Python 3",
   "language": "python",
   "name": "python3"
  },
  "language_info": {
   "codemirror_mode": {
    "name": "ipython",
    "version": 3
   },
   "file_extension": ".py",
   "mimetype": "text/x-python",
   "name": "python",
   "nbconvert_exporter": "python",
   "pygments_lexer": "ipython3",
   "version": "3.7.6"
  }
 },
 "nbformat": 4,
 "nbformat_minor": 4
}
