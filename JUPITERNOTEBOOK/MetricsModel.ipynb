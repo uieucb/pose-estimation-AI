{
 "cells": [
  {
   "cell_type": "code",
   "execution_count": 1,
   "metadata": {},
   "outputs": [],
   "source": [
    "#3. TRAIN CUSTOM MODEL USING SCIKIT LEARN\n",
    "#READ IN COLLECTED DATA AND PROCESS\n",
    "#Manejamos pandas para los datos tabulados\n",
    "import pandas as pd\n",
    "#para divir los datos de entrenamiento y los de prueba\n",
    "from sklearn.model_selection import train_test_split\n",
    "from sklearn.preprocessing import LabelEncoder,OneHotEncoder"
   ]
  },
  {
   "cell_type": "code",
   "execution_count": 2,
   "metadata": {},
   "outputs": [
    {
     "data": {
      "text/html": [
       "<div>\n",
       "<style scoped>\n",
       "    .dataframe tbody tr th:only-of-type {\n",
       "        vertical-align: middle;\n",
       "    }\n",
       "\n",
       "    .dataframe tbody tr th {\n",
       "        vertical-align: top;\n",
       "    }\n",
       "\n",
       "    .dataframe thead th {\n",
       "        text-align: right;\n",
       "    }\n",
       "</style>\n",
       "<table border=\"1\" class=\"dataframe\">\n",
       "  <thead>\n",
       "    <tr style=\"text-align: right;\">\n",
       "      <th></th>\n",
       "      <th>class</th>\n",
       "      <th>NOSE_x1</th>\n",
       "      <th>NOSE_y1</th>\n",
       "      <th>NOSE_z1</th>\n",
       "      <th>NOSE_v1</th>\n",
       "      <th>LEFT_EYE_INNER_x2</th>\n",
       "      <th>LEFT_EYE_INNER_y2</th>\n",
       "      <th>LEFT_EYE_INNER_z2</th>\n",
       "      <th>LEFT_EYE_INNER_v2</th>\n",
       "      <th>LEFT_EYE_x3</th>\n",
       "      <th>...</th>\n",
       "      <th>RIGHT_HEEL_z31</th>\n",
       "      <th>RIGHT_HEEL_v31</th>\n",
       "      <th>LEFT_FOOT_INDEX_x32</th>\n",
       "      <th>LEFT_FOOT_INDEX_y32</th>\n",
       "      <th>LEFT_FOOT_INDEX_z32</th>\n",
       "      <th>LEFT_FOOT_INDEX_v32</th>\n",
       "      <th>RIGHT_FOOT_INDEX_x33</th>\n",
       "      <th>RIGHT_FOOT_INDEX_y33</th>\n",
       "      <th>RIGHT_FOOT_INDEX_z33</th>\n",
       "      <th>RIGHT_FOOT_INDEX_v33</th>\n",
       "    </tr>\n",
       "  </thead>\n",
       "  <tbody>\n",
       "    <tr>\n",
       "      <th>0</th>\n",
       "      <td>Mabu</td>\n",
       "      <td>0.338949</td>\n",
       "      <td>0.267868</td>\n",
       "      <td>-0.192381</td>\n",
       "      <td>0.999615</td>\n",
       "      <td>0.338756</td>\n",
       "      <td>0.255450</td>\n",
       "      <td>-0.176463</td>\n",
       "      <td>0.998945</td>\n",
       "      <td>0.339873</td>\n",
       "      <td>...</td>\n",
       "      <td>-0.020487</td>\n",
       "      <td>0.909678</td>\n",
       "      <td>0.404543</td>\n",
       "      <td>0.637727</td>\n",
       "      <td>0.067369</td>\n",
       "      <td>0.985126</td>\n",
       "      <td>0.245939</td>\n",
       "      <td>0.678501</td>\n",
       "      <td>-0.097650</td>\n",
       "      <td>0.986881</td>\n",
       "    </tr>\n",
       "    <tr>\n",
       "      <th>1</th>\n",
       "      <td>Mabu</td>\n",
       "      <td>0.341362</td>\n",
       "      <td>0.272906</td>\n",
       "      <td>-0.172833</td>\n",
       "      <td>0.999878</td>\n",
       "      <td>0.341833</td>\n",
       "      <td>0.263022</td>\n",
       "      <td>-0.157755</td>\n",
       "      <td>0.999648</td>\n",
       "      <td>0.342892</td>\n",
       "      <td>...</td>\n",
       "      <td>-0.019190</td>\n",
       "      <td>0.903474</td>\n",
       "      <td>0.403932</td>\n",
       "      <td>0.632878</td>\n",
       "      <td>0.042807</td>\n",
       "      <td>0.983703</td>\n",
       "      <td>0.245826</td>\n",
       "      <td>0.677713</td>\n",
       "      <td>-0.090687</td>\n",
       "      <td>0.986446</td>\n",
       "    </tr>\n",
       "    <tr>\n",
       "      <th>2</th>\n",
       "      <td>Mabu</td>\n",
       "      <td>0.343300</td>\n",
       "      <td>0.273654</td>\n",
       "      <td>-0.145198</td>\n",
       "      <td>0.999949</td>\n",
       "      <td>0.343889</td>\n",
       "      <td>0.264594</td>\n",
       "      <td>-0.129308</td>\n",
       "      <td>0.999866</td>\n",
       "      <td>0.345471</td>\n",
       "      <td>...</td>\n",
       "      <td>-0.017373</td>\n",
       "      <td>0.907558</td>\n",
       "      <td>0.402237</td>\n",
       "      <td>0.634145</td>\n",
       "      <td>0.046420</td>\n",
       "      <td>0.964670</td>\n",
       "      <td>0.245234</td>\n",
       "      <td>0.675632</td>\n",
       "      <td>-0.082495</td>\n",
       "      <td>0.982250</td>\n",
       "    </tr>\n",
       "    <tr>\n",
       "      <th>3</th>\n",
       "      <td>Mabu</td>\n",
       "      <td>0.341744</td>\n",
       "      <td>0.275978</td>\n",
       "      <td>-0.036437</td>\n",
       "      <td>1.000000</td>\n",
       "      <td>0.344508</td>\n",
       "      <td>0.270824</td>\n",
       "      <td>-0.024877</td>\n",
       "      <td>0.999999</td>\n",
       "      <td>0.346587</td>\n",
       "      <td>...</td>\n",
       "      <td>0.001984</td>\n",
       "      <td>0.491569</td>\n",
       "      <td>0.401018</td>\n",
       "      <td>0.631583</td>\n",
       "      <td>0.017119</td>\n",
       "      <td>0.583191</td>\n",
       "      <td>0.246674</td>\n",
       "      <td>0.672462</td>\n",
       "      <td>-0.047516</td>\n",
       "      <td>0.739743</td>\n",
       "    </tr>\n",
       "    <tr>\n",
       "      <th>4</th>\n",
       "      <td>Mabu</td>\n",
       "      <td>0.344600</td>\n",
       "      <td>0.279687</td>\n",
       "      <td>-0.137207</td>\n",
       "      <td>0.999933</td>\n",
       "      <td>0.345614</td>\n",
       "      <td>0.269513</td>\n",
       "      <td>-0.122338</td>\n",
       "      <td>0.999876</td>\n",
       "      <td>0.347535</td>\n",
       "      <td>...</td>\n",
       "      <td>-0.019327</td>\n",
       "      <td>0.955203</td>\n",
       "      <td>0.403115</td>\n",
       "      <td>0.635911</td>\n",
       "      <td>0.015902</td>\n",
       "      <td>0.975587</td>\n",
       "      <td>0.243256</td>\n",
       "      <td>0.677595</td>\n",
       "      <td>-0.082133</td>\n",
       "      <td>0.988185</td>\n",
       "    </tr>\n",
       "  </tbody>\n",
       "</table>\n",
       "<p>5 rows × 133 columns</p>\n",
       "</div>"
      ],
      "text/plain": [
       "  class   NOSE_x1   NOSE_y1   NOSE_z1   NOSE_v1  LEFT_EYE_INNER_x2  \\\n",
       "0  Mabu  0.338949  0.267868 -0.192381  0.999615           0.338756   \n",
       "1  Mabu  0.341362  0.272906 -0.172833  0.999878           0.341833   \n",
       "2  Mabu  0.343300  0.273654 -0.145198  0.999949           0.343889   \n",
       "3  Mabu  0.341744  0.275978 -0.036437  1.000000           0.344508   \n",
       "4  Mabu  0.344600  0.279687 -0.137207  0.999933           0.345614   \n",
       "\n",
       "   LEFT_EYE_INNER_y2  LEFT_EYE_INNER_z2  LEFT_EYE_INNER_v2  LEFT_EYE_x3  ...  \\\n",
       "0           0.255450          -0.176463           0.998945     0.339873  ...   \n",
       "1           0.263022          -0.157755           0.999648     0.342892  ...   \n",
       "2           0.264594          -0.129308           0.999866     0.345471  ...   \n",
       "3           0.270824          -0.024877           0.999999     0.346587  ...   \n",
       "4           0.269513          -0.122338           0.999876     0.347535  ...   \n",
       "\n",
       "   RIGHT_HEEL_z31  RIGHT_HEEL_v31  LEFT_FOOT_INDEX_x32  LEFT_FOOT_INDEX_y32  \\\n",
       "0       -0.020487        0.909678             0.404543             0.637727   \n",
       "1       -0.019190        0.903474             0.403932             0.632878   \n",
       "2       -0.017373        0.907558             0.402237             0.634145   \n",
       "3        0.001984        0.491569             0.401018             0.631583   \n",
       "4       -0.019327        0.955203             0.403115             0.635911   \n",
       "\n",
       "   LEFT_FOOT_INDEX_z32  LEFT_FOOT_INDEX_v32  RIGHT_FOOT_INDEX_x33  \\\n",
       "0             0.067369             0.985126              0.245939   \n",
       "1             0.042807             0.983703              0.245826   \n",
       "2             0.046420             0.964670              0.245234   \n",
       "3             0.017119             0.583191              0.246674   \n",
       "4             0.015902             0.975587              0.243256   \n",
       "\n",
       "   RIGHT_FOOT_INDEX_y33  RIGHT_FOOT_INDEX_z33  RIGHT_FOOT_INDEX_v33  \n",
       "0              0.678501             -0.097650              0.986881  \n",
       "1              0.677713             -0.090687              0.986446  \n",
       "2              0.675632             -0.082495              0.982250  \n",
       "3              0.672462             -0.047516              0.739743  \n",
       "4              0.677595             -0.082133              0.988185  \n",
       "\n",
       "[5 rows x 133 columns]"
      ]
     },
     "execution_count": 2,
     "metadata": {},
     "output_type": "execute_result"
    }
   ],
   "source": [
    "#Importando los datos de nuestro dataset \n",
    "df=pd.read_csv('myvideo/poses.csv')\n",
    "df.head()"
   ]
  },
  {
   "cell_type": "code",
   "execution_count": 3,
   "metadata": {},
   "outputs": [
    {
     "data": {
      "text/html": [
       "<div>\n",
       "<style scoped>\n",
       "    .dataframe tbody tr th:only-of-type {\n",
       "        vertical-align: middle;\n",
       "    }\n",
       "\n",
       "    .dataframe tbody tr th {\n",
       "        vertical-align: top;\n",
       "    }\n",
       "\n",
       "    .dataframe thead th {\n",
       "        text-align: right;\n",
       "    }\n",
       "</style>\n",
       "<table border=\"1\" class=\"dataframe\">\n",
       "  <thead>\n",
       "    <tr style=\"text-align: right;\">\n",
       "      <th></th>\n",
       "      <th>class</th>\n",
       "      <th>NOSE_x1</th>\n",
       "      <th>NOSE_y1</th>\n",
       "      <th>NOSE_z1</th>\n",
       "      <th>NOSE_v1</th>\n",
       "      <th>LEFT_EYE_INNER_x2</th>\n",
       "      <th>LEFT_EYE_INNER_y2</th>\n",
       "      <th>LEFT_EYE_INNER_z2</th>\n",
       "      <th>LEFT_EYE_INNER_v2</th>\n",
       "      <th>LEFT_EYE_x3</th>\n",
       "      <th>...</th>\n",
       "      <th>RIGHT_HEEL_z31</th>\n",
       "      <th>RIGHT_HEEL_v31</th>\n",
       "      <th>LEFT_FOOT_INDEX_x32</th>\n",
       "      <th>LEFT_FOOT_INDEX_y32</th>\n",
       "      <th>LEFT_FOOT_INDEX_z32</th>\n",
       "      <th>LEFT_FOOT_INDEX_v32</th>\n",
       "      <th>RIGHT_FOOT_INDEX_x33</th>\n",
       "      <th>RIGHT_FOOT_INDEX_y33</th>\n",
       "      <th>RIGHT_FOOT_INDEX_z33</th>\n",
       "      <th>RIGHT_FOOT_INDEX_v33</th>\n",
       "    </tr>\n",
       "  </thead>\n",
       "  <tbody>\n",
       "    <tr>\n",
       "      <th>0</th>\n",
       "      <td>2</td>\n",
       "      <td>0.338949</td>\n",
       "      <td>0.267868</td>\n",
       "      <td>-0.192381</td>\n",
       "      <td>0.999615</td>\n",
       "      <td>0.338756</td>\n",
       "      <td>0.255450</td>\n",
       "      <td>-0.176463</td>\n",
       "      <td>0.998945</td>\n",
       "      <td>0.339873</td>\n",
       "      <td>...</td>\n",
       "      <td>-0.020487</td>\n",
       "      <td>0.909678</td>\n",
       "      <td>0.404543</td>\n",
       "      <td>0.637727</td>\n",
       "      <td>0.067369</td>\n",
       "      <td>0.985126</td>\n",
       "      <td>0.245939</td>\n",
       "      <td>0.678501</td>\n",
       "      <td>-0.097650</td>\n",
       "      <td>0.986881</td>\n",
       "    </tr>\n",
       "    <tr>\n",
       "      <th>1</th>\n",
       "      <td>2</td>\n",
       "      <td>0.341362</td>\n",
       "      <td>0.272906</td>\n",
       "      <td>-0.172833</td>\n",
       "      <td>0.999878</td>\n",
       "      <td>0.341833</td>\n",
       "      <td>0.263022</td>\n",
       "      <td>-0.157755</td>\n",
       "      <td>0.999648</td>\n",
       "      <td>0.342892</td>\n",
       "      <td>...</td>\n",
       "      <td>-0.019190</td>\n",
       "      <td>0.903474</td>\n",
       "      <td>0.403932</td>\n",
       "      <td>0.632878</td>\n",
       "      <td>0.042807</td>\n",
       "      <td>0.983703</td>\n",
       "      <td>0.245826</td>\n",
       "      <td>0.677713</td>\n",
       "      <td>-0.090687</td>\n",
       "      <td>0.986446</td>\n",
       "    </tr>\n",
       "    <tr>\n",
       "      <th>2</th>\n",
       "      <td>2</td>\n",
       "      <td>0.343300</td>\n",
       "      <td>0.273654</td>\n",
       "      <td>-0.145198</td>\n",
       "      <td>0.999949</td>\n",
       "      <td>0.343889</td>\n",
       "      <td>0.264594</td>\n",
       "      <td>-0.129308</td>\n",
       "      <td>0.999866</td>\n",
       "      <td>0.345471</td>\n",
       "      <td>...</td>\n",
       "      <td>-0.017373</td>\n",
       "      <td>0.907558</td>\n",
       "      <td>0.402237</td>\n",
       "      <td>0.634145</td>\n",
       "      <td>0.046420</td>\n",
       "      <td>0.964670</td>\n",
       "      <td>0.245234</td>\n",
       "      <td>0.675632</td>\n",
       "      <td>-0.082495</td>\n",
       "      <td>0.982250</td>\n",
       "    </tr>\n",
       "    <tr>\n",
       "      <th>3</th>\n",
       "      <td>2</td>\n",
       "      <td>0.341744</td>\n",
       "      <td>0.275978</td>\n",
       "      <td>-0.036437</td>\n",
       "      <td>1.000000</td>\n",
       "      <td>0.344508</td>\n",
       "      <td>0.270824</td>\n",
       "      <td>-0.024877</td>\n",
       "      <td>0.999999</td>\n",
       "      <td>0.346587</td>\n",
       "      <td>...</td>\n",
       "      <td>0.001984</td>\n",
       "      <td>0.491569</td>\n",
       "      <td>0.401018</td>\n",
       "      <td>0.631583</td>\n",
       "      <td>0.017119</td>\n",
       "      <td>0.583191</td>\n",
       "      <td>0.246674</td>\n",
       "      <td>0.672462</td>\n",
       "      <td>-0.047516</td>\n",
       "      <td>0.739743</td>\n",
       "    </tr>\n",
       "    <tr>\n",
       "      <th>4</th>\n",
       "      <td>2</td>\n",
       "      <td>0.344600</td>\n",
       "      <td>0.279687</td>\n",
       "      <td>-0.137207</td>\n",
       "      <td>0.999933</td>\n",
       "      <td>0.345614</td>\n",
       "      <td>0.269513</td>\n",
       "      <td>-0.122338</td>\n",
       "      <td>0.999876</td>\n",
       "      <td>0.347535</td>\n",
       "      <td>...</td>\n",
       "      <td>-0.019327</td>\n",
       "      <td>0.955203</td>\n",
       "      <td>0.403115</td>\n",
       "      <td>0.635911</td>\n",
       "      <td>0.015902</td>\n",
       "      <td>0.975587</td>\n",
       "      <td>0.243256</td>\n",
       "      <td>0.677595</td>\n",
       "      <td>-0.082133</td>\n",
       "      <td>0.988185</td>\n",
       "    </tr>\n",
       "  </tbody>\n",
       "</table>\n",
       "<p>5 rows × 133 columns</p>\n",
       "</div>"
      ],
      "text/plain": [
       "   class   NOSE_x1   NOSE_y1   NOSE_z1   NOSE_v1  LEFT_EYE_INNER_x2  \\\n",
       "0      2  0.338949  0.267868 -0.192381  0.999615           0.338756   \n",
       "1      2  0.341362  0.272906 -0.172833  0.999878           0.341833   \n",
       "2      2  0.343300  0.273654 -0.145198  0.999949           0.343889   \n",
       "3      2  0.341744  0.275978 -0.036437  1.000000           0.344508   \n",
       "4      2  0.344600  0.279687 -0.137207  0.999933           0.345614   \n",
       "\n",
       "   LEFT_EYE_INNER_y2  LEFT_EYE_INNER_z2  LEFT_EYE_INNER_v2  LEFT_EYE_x3  ...  \\\n",
       "0           0.255450          -0.176463           0.998945     0.339873  ...   \n",
       "1           0.263022          -0.157755           0.999648     0.342892  ...   \n",
       "2           0.264594          -0.129308           0.999866     0.345471  ...   \n",
       "3           0.270824          -0.024877           0.999999     0.346587  ...   \n",
       "4           0.269513          -0.122338           0.999876     0.347535  ...   \n",
       "\n",
       "   RIGHT_HEEL_z31  RIGHT_HEEL_v31  LEFT_FOOT_INDEX_x32  LEFT_FOOT_INDEX_y32  \\\n",
       "0       -0.020487        0.909678             0.404543             0.637727   \n",
       "1       -0.019190        0.903474             0.403932             0.632878   \n",
       "2       -0.017373        0.907558             0.402237             0.634145   \n",
       "3        0.001984        0.491569             0.401018             0.631583   \n",
       "4       -0.019327        0.955203             0.403115             0.635911   \n",
       "\n",
       "   LEFT_FOOT_INDEX_z32  LEFT_FOOT_INDEX_v32  RIGHT_FOOT_INDEX_x33  \\\n",
       "0             0.067369             0.985126              0.245939   \n",
       "1             0.042807             0.983703              0.245826   \n",
       "2             0.046420             0.964670              0.245234   \n",
       "3             0.017119             0.583191              0.246674   \n",
       "4             0.015902             0.975587              0.243256   \n",
       "\n",
       "   RIGHT_FOOT_INDEX_y33  RIGHT_FOOT_INDEX_z33  RIGHT_FOOT_INDEX_v33  \n",
       "0              0.678501             -0.097650              0.986881  \n",
       "1              0.677713             -0.090687              0.986446  \n",
       "2              0.675632             -0.082495              0.982250  \n",
       "3              0.672462             -0.047516              0.739743  \n",
       "4              0.677595             -0.082133              0.988185  \n",
       "\n",
       "[5 rows x 133 columns]"
      ]
     },
     "execution_count": 3,
     "metadata": {},
     "output_type": "execute_result"
    }
   ],
   "source": [
    "# label_encoder object\n",
    "label_encoder =LabelEncoder()\n",
    "# Encode labels in column. \n",
    "df['class']= label_encoder.fit_transform(df['class'])\n",
    "df.head()\n"
   ]
  },
  {
   "cell_type": "code",
   "execution_count": 4,
   "metadata": {},
   "outputs": [],
   "source": [
    "\n",
    "X=df.drop('class',axis=1)#features\n",
    "y=df['class']#target value"
   ]
  },
  {
   "cell_type": "code",
   "execution_count": null,
   "metadata": {},
   "outputs": [],
   "source": []
  },
  {
   "cell_type": "code",
   "execution_count": null,
   "metadata": {},
   "outputs": [],
   "source": []
  },
  {
   "cell_type": "code",
   "execution_count": 5,
   "metadata": {},
   "outputs": [],
   "source": [
    "#Esa parte es solo extraer los datos que nuestra diviison de prueba \n",
    "X_train, X_test, y_train, y_test=train_test_split(X,y,test_size=0.3,random_state=1234)"
   ]
  },
  {
   "cell_type": "code",
   "execution_count": 6,
   "metadata": {},
   "outputs": [],
   "source": [
    "#Estas dirigidos a una canalizacion o a generar a pipeline de aprendizaje\n",
    "#automatico, esta configuracion se usara tanto para el entrenamiento como test\n",
    "from sklearn.pipeline import make_pipeline\n",
    "#Normaliza los datos, resta los datos y los divide por la desv estandar\n",
    "from sklearn.preprocessing import StandardScaler\n",
    "#Estos son algoritmos de clasificacion se usara 4 para clasificar\n",
    "from sklearn.linear_model import LogisticRegression, RidgeClassifier\n",
    "from sklearn.ensemble import RandomForestClassifier, GradientBoostingClassifier\n"
   ]
  },
  {
   "cell_type": "code",
   "execution_count": 7,
   "metadata": {},
   "outputs": [],
   "source": [
    "#hay que pensar que cada uno es como un modelo individual\n",
    "pipelines={\n",
    "    'lr':make_pipeline(StandardScaler(),LogisticRegression()),\n",
    "    'rc':make_pipeline(StandardScaler(),RidgeClassifier()),\n",
    "    'rf':make_pipeline(StandardScaler(),RandomForestClassifier()),\n",
    "    'gb':make_pipeline(StandardScaler(),GradientBoostingClassifier()),  \n",
    "    \n",
    "}"
   ]
  },
  {
   "cell_type": "code",
   "execution_count": 8,
   "metadata": {},
   "outputs": [
    {
     "name": "stderr",
     "output_type": "stream",
     "text": [
      "C:\\Users\\asus\\anaconda3\\lib\\site-packages\\sklearn\\linear_model\\_logistic.py:940: ConvergenceWarning: lbfgs failed to converge (status=1):\n",
      "STOP: TOTAL NO. of ITERATIONS REACHED LIMIT.\n",
      "\n",
      "Increase the number of iterations (max_iter) or scale the data as shown in:\n",
      "    https://scikit-learn.org/stable/modules/preprocessing.html\n",
      "Please also refer to the documentation for alternative solver options:\n",
      "    https://scikit-learn.org/stable/modules/linear_model.html#logistic-regression\n",
      "  extra_warning_msg=_LOGISTIC_SOLVER_CONVERGENCE_MSG)\n"
     ]
    }
   ],
   "source": [
    "fit_models={}\n",
    "#estamos recorriendo cada uno de nuestros pipelines\n",
    "for algo, pipeline in pipelines.items():\n",
    "    #hacemos el ajuste de puntos para entrenar bien\n",
    "    #se almacenara en una variable modelo y se lo guardara\n",
    "    #en nuestro diccionario\n",
    "    model=pipeline.fit(X_train, y_train)\n",
    "    fit_models[algo]=model"
   ]
  },
  {
   "cell_type": "code",
   "execution_count": 9,
   "metadata": {},
   "outputs": [
    {
     "data": {
      "text/plain": [
       "array([1, 1, 1, 5, 2, 1, 0, 3, 2, 2, 1, 2, 1, 1, 2, 0, 1, 2, 2, 4, 3, 2,\n",
       "       2, 2, 2, 2, 1, 2, 1, 1, 1, 1, 1, 1, 2, 1, 1, 2, 5, 2, 1, 2, 3, 0,\n",
       "       2, 1, 2, 2, 2, 1, 1, 1, 3, 2, 1, 2, 2, 2, 1, 1, 1, 0, 2, 0, 1, 1,\n",
       "       1, 5, 1, 0, 4, 1, 2, 1, 1, 0, 1, 2, 0, 1, 2, 0, 4, 1, 2, 1, 1, 1,\n",
       "       4, 3, 2, 1, 0, 0, 1, 2, 2, 2, 0, 0, 2, 0, 1, 1, 1, 1, 1, 3, 1, 1,\n",
       "       5, 2, 0, 4, 0, 2, 2, 1, 1, 2, 1, 1, 2, 2, 4, 4, 1, 3, 0, 1, 1, 3,\n",
       "       2, 1, 1, 1, 2, 1, 1, 2, 2, 2, 4, 0, 2, 1, 5, 2, 1, 2, 4, 0, 2, 2,\n",
       "       2, 1, 4, 1, 1, 3, 2, 4, 1, 4, 1, 1, 3, 1, 1, 2, 0, 1, 1, 5, 2, 3,\n",
       "       3, 2, 1, 2, 0, 1, 1, 2, 1, 2, 2, 3, 4, 1, 2, 0, 2, 2, 1, 0, 2, 2,\n",
       "       2, 2, 1, 2, 2, 0, 2, 0, 2, 1, 4, 5, 4, 5, 0, 1, 1, 3, 1, 2, 1, 2,\n",
       "       1, 4, 2, 1, 1, 1, 1, 1, 1, 2, 2, 2, 1, 2, 2, 1, 3, 1, 4, 3, 1, 0,\n",
       "       5, 1, 2, 2, 1, 3, 3, 0, 1, 1, 1, 2, 2, 2, 2, 2, 2, 2, 1, 1, 4, 1,\n",
       "       1, 1, 1, 0, 2, 0, 2, 2, 2, 2, 1, 1, 2, 2, 1, 0, 1, 1, 1, 1, 3, 2,\n",
       "       5, 2, 1, 2, 4, 3, 2, 0, 2, 5, 2, 1])"
      ]
     },
     "execution_count": 9,
     "metadata": {},
     "output_type": "execute_result"
    }
   ],
   "source": [
    "#Prueba de prediccion\n",
    "fit_models['rf'].predict(X_test)"
   ]
  },
  {
   "cell_type": "code",
   "execution_count": 10,
   "metadata": {},
   "outputs": [],
   "source": [
    "from sklearn.metrics import precision_score\n",
    "from sklearn.metrics import recall_score\n",
    "from sklearn.metrics import accuracy_score\n",
    "from sklearn.metrics import f1_score\n",
    "from sklearn.metrics import plot_confusion_matrix\n",
    "#pickle es una libreria que se utiliza para guardar los modelos en el disco\n",
    "import pickle"
   ]
  },
  {
   "cell_type": "code",
   "execution_count": 11,
   "metadata": {},
   "outputs": [
    {
     "name": "stdout",
     "output_type": "stream",
     "text": [
      "lr 0.965863997113997\n",
      "rc 0.9646863553113553\n",
      "rf 0.9933993399339934\n",
      "gb 0.9951862100772512\n"
     ]
    }
   ],
   "source": [
    "#--------------PRECISION \n",
    "#recorremos cada modelo del diccionario enviandole el X_test\n",
    "#para que hagan predicciones y se almacena los resultados dentro de\n",
    "#una variable llamada yhat\n",
    "for algo,model in fit_models.items():\n",
    "    yhat=model.predict(X_test)\n",
    "    print(algo, precision_score(y_test,yhat, average=\"macro\"))"
   ]
  },
  {
   "cell_type": "code",
   "execution_count": 12,
   "metadata": {},
   "outputs": [
    {
     "name": "stdout",
     "output_type": "stream",
     "text": [
      "lr 0.9836871687343468\n",
      "rc 0.9868178111712971\n",
      "rf 0.9874293785310734\n",
      "gb 0.9885360242297163\n"
     ]
    }
   ],
   "source": [
    "#--------------RECALL\n",
    "#recorremos cada modelo del diccionario enviandole el X_test\n",
    "#para que hagan predicciones y se almacena los resultados dentro de\n",
    "#una variable llamada yhat\n",
    "for algo,model in fit_models.items():\n",
    "    yhat=model.predict(X_test)\n",
    "    print(algo, recall_score(y_test,yhat, average=\"macro\"))"
   ]
  },
  {
   "cell_type": "code",
   "execution_count": 13,
   "metadata": {},
   "outputs": [
    {
     "name": "stdout",
     "output_type": "stream",
     "text": [
      "lr 0.9798657718120806\n",
      "rc 0.9865771812080537\n",
      "rf 0.9865771812080537\n",
      "gb 0.9899328859060402\n"
     ]
    }
   ],
   "source": [
    "#--------------ACCURACY\n",
    "#recorremos cada modelo del diccionario enviandole el X_test\n",
    "#para que hagan predicciones y se almacena los resultados dentro de\n",
    "#una variable llamada yhat\n",
    "for algo,model in fit_models.items():\n",
    "    yhat=model.predict(X_test)\n",
    "    print(algo, accuracy_score(y_test,yhat))"
   ]
  },
  {
   "cell_type": "code",
   "execution_count": 14,
   "metadata": {},
   "outputs": [
    {
     "name": "stdout",
     "output_type": "stream",
     "text": [
      "lr 0.9743196527601937\n",
      "rc 0.9744726727539148\n",
      "rf 0.9902135696127111\n",
      "gb 0.991749963783862\n"
     ]
    }
   ],
   "source": [
    "#--------------f1-score\n",
    "#recorremos cada modelo del diccionario enviandole el X_test\n",
    "#para que hagan predicciones y se almacena los resultados dentro de\n",
    "#una variable llamada yhat\n",
    "for algo,model in fit_models.items():\n",
    "    yhat=model.predict(X_test)\n",
    "    print(algo, f1_score(y_test,yhat, average=\"macro\"))"
   ]
  },
  {
   "cell_type": "code",
   "execution_count": 18,
   "metadata": {},
   "outputs": [
    {
     "data": {
      "image/png": "[encoded data removed]",
      "text/plain": [
       "<Figure size 432x288 with 2 Axes>"
      ]
     },
     "metadata": {
      "needs_background": "light"
     },
     "output_type": "display_data"
    },
    {
     "data": {
      "image/png": "[encoded data removed]",
      "text/plain": [
       "<Figure size 432x288 with 2 Axes>"
      ]
     },
     "metadata": {
      "needs_background": "light"
     },
     "output_type": "display_data"
    },
    {
     "data": {
      "image/png": "[encoded data removed]",
      "text/plain": [
       "<Figure size 432x288 with 2 Axes>"
      ]
     },
     "metadata": {
      "needs_background": "light"
     },
     "output_type": "display_data"
    },
    {
     "data": {
      "image/png": "[encoded data removed]",
      "text/plain": [
       "<Figure size 432x288 with 2 Axes>"
      ]
     },
     "metadata": {
      "needs_background": "light"
     },
     "output_type": "display_data"
    }
   ],
   "source": [
    "import sklearn\n",
    "import numpy as np\n",
    "import matplotlib.pyplot as plt\n",
    "#--------------PRECISION \n",
    "#recorremos cada modelo del diccionario enviandole el X_test\n",
    "#para que hagan predicciones y se almacena los resultados dentro de\n",
    "#una variable llamada yhat\n",
    "for algo,model in fit_models.items():\n",
    "    #yhat=model.predict(X_test)\n",
    "    #print(algo, precision_score(y_test,yhat, average=\"macro\"))\n",
    "    class_names = ['Mabu', 'Gongbu', 'Pubu', 'Xiebu','Xubu','Idle']\n",
    "    disp = plot_confusion_matrix(model, X_test, y_test, display_labels=class_names, cmap=plt.cm.Blues, xticks_rotation='vertical',)\n",
    "    disp.ax_.set_title(\"Model: \"+algo)"
   ]
  },
  {
   "cell_type": "code",
   "execution_count": 60,
   "metadata": {},
   "outputs": [],
   "source": []
  },
  {
   "cell_type": "code",
   "execution_count": 26,
   "metadata": {},
   "outputs": [
    {
     "data": {
      "image/png": "[encoded data removed]",
      "text/plain": [
       "<Figure size 576x360 with 1 Axes>"
      ]
     },
     "metadata": {
      "needs_background": "light"
     },
     "output_type": "display_data"
    },
    {
     "data": {
      "image/png": "[encoded data removed]",
      "text/plain": [
       "<Figure size 576x360 with 1 Axes>"
      ]
     },
     "metadata": {
      "needs_background": "light"
     },
     "output_type": "display_data"
    },
    {
     "data": {
      "image/png": "[encoded data removed]",
      "text/plain": [
       "<Figure size 576x360 with 1 Axes>"
      ]
     },
     "metadata": {
      "needs_background": "light"
     },
     "output_type": "display_data"
    },
    {
     "data": {
      "image/png": "[encoded data removed]",
      "text/plain": [
       "<Figure size 576x360 with 1 Axes>"
      ]
     },
     "metadata": {
      "needs_background": "light"
     },
     "output_type": "display_data"
    }
   ],
   "source": [
    "import pandas as pd \n",
    "from sklearn.preprocessing import label_binarize\n",
    "#--------------ROC Analysis\n",
    "#recorremos cada modelo del diccionario enviandole el X_test\n",
    "#para que hagan predicciones y se almacena los resultados dentro de\n",
    "#una variable llamada yhat\n",
    "for algo,model in fit_models.items():\n",
    "    yhat=model.predict(X_test)\n",
    "    plot_roc_curve(y_test,yhat,algo)\n",
    "    "
   ]
  },
  {
   "cell_type": "code",
   "execution_count": 25,
   "metadata": {},
   "outputs": [],
   "source": [
    "from sklearn.metrics import roc_curve\n",
    "from sklearn.metrics import auc\n",
    "import matplotlib.pyplot as plt\n",
    "from sklearn.metrics import roc_auc_score\n",
    "def plot_roc_curve(y_test, y_pred,title):\n",
    "    fpr, tpr, thresholds = roc_curve(y_test, y_pred, pos_label=1)\n",
    "    aucu = auc(fpr, tpr)\n",
    "    roc_auc = roc_auc_score(y_test, pd.get_dummies(y_pred), multi_class=\"ovr\")\n",
    "    # plt.plot(fpr_keras, tpr_keras, label='Keras (area = {:.3f})'.format(auc))\n",
    "    plt.figure(figsize=(8,5))\n",
    "    plt.plot(fpr, tpr, label='Model (area = %0.2f)' % roc_auc)\n",
    "    plt.plot([0, 1], [0, 1],'r--')\n",
    "    plt.xlim([0.0, 1.0])\n",
    "    plt.ylim([0.0, 1.05])\n",
    "    plt.xlabel('False Positive Rate')\n",
    "    plt.ylabel('True Positive Rate')\n",
    "    plt.title(\"Model: \"+title)\n",
    "    plt.legend(loc=\"lower right\");\n",
    "    plt.show();"
   ]
  },
  {
   "cell_type": "code",
   "execution_count": null,
   "metadata": {},
   "outputs": [],
   "source": []
  }
 ],
 "metadata": {
  "kernelspec": {
   "display_name": "Python 3",
   "language": "python",
   "name": "python3"
  },
  "language_info": {
   "codemirror_mode": {
    "name": "ipython",
    "version": 3
   },
   "file_extension": ".py",
   "mimetype": "text/x-python",
   "name": "python",
   "nbconvert_exporter": "python",
   "pygments_lexer": "ipython3",
   "version": "3.7.6"
  }
 },
 "nbformat": 4,
 "nbformat_minor": 4
}
